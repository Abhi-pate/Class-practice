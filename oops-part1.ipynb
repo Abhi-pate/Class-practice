{
 "cells": [
  {
   "cell_type": "markdown",
   "id": "0e9ac772-61b1-497b-bbbe-6c1e5e5efb28",
   "metadata": {},
   "source": [
    "# opps-part1"
   ]
  },
  {
   "cell_type": "code",
   "execution_count": 2,
   "id": "84e32bf9-9a48-4611-8450-42b1ee14d709",
   "metadata": {},
   "outputs": [],
   "source": [
    "a= 1"
   ]
  },
  {
   "cell_type": "code",
   "execution_count": 3,
   "id": "c75b268e-ab33-4a6b-8ba3-4190708c4a77",
   "metadata": {},
   "outputs": [
    {
     "name": "stdout",
     "output_type": "stream",
     "text": [
      "<class 'int'>\n"
     ]
    }
   ],
   "source": [
    "print(type(a))"
   ]
  },
  {
   "cell_type": "code",
   "execution_count": 4,
   "id": "04c49f98-d296-4103-85bf-59c29077c330",
   "metadata": {},
   "outputs": [],
   "source": [
    "class test:\n",
    "    pass"
   ]
  },
  {
   "cell_type": "code",
   "execution_count": 5,
   "id": "901720b5-0932-45bc-85d4-2efca18aface",
   "metadata": {},
   "outputs": [],
   "source": [
    "a= test()"
   ]
  },
  {
   "cell_type": "code",
   "execution_count": 7,
   "id": "35163829-a566-414e-8077-5e11474ece82",
   "metadata": {},
   "outputs": [
    {
     "data": {
      "text/plain": [
       "__main__.test"
      ]
     },
     "execution_count": 7,
     "metadata": {},
     "output_type": "execute_result"
    }
   ],
   "source": [
    "type(a)"
   ]
  },
  {
   "cell_type": "code",
   "execution_count": 8,
   "id": "25658604-ed80-464f-a21b-4b62fccdb34c",
   "metadata": {},
   "outputs": [
    {
     "name": "stdout",
     "output_type": "stream",
     "text": [
      "<class '__main__.test'>\n"
     ]
    }
   ],
   "source": [
    "print(type(a))"
   ]
  },
  {
   "cell_type": "code",
   "execution_count": 14,
   "id": "4001fd7c-be7f-4f2b-9282-9808a19135cb",
   "metadata": {},
   "outputs": [],
   "source": [
    "class pwskills():\n",
    "    \n",
    "    def welcome_msg(self):\n",
    "        print(\"welcome to pwskills\")"
   ]
  },
  {
   "cell_type": "code",
   "execution_count": 15,
   "id": "a30d4ac5-7666-4f1f-b907-69ecf7d4b82d",
   "metadata": {},
   "outputs": [],
   "source": [
    "rohan= pwskills()"
   ]
  },
  {
   "cell_type": "code",
   "execution_count": 16,
   "id": "b1002f2b-fb56-436c-bca5-5a8263ac6dfb",
   "metadata": {},
   "outputs": [
    {
     "name": "stdout",
     "output_type": "stream",
     "text": [
      "<class '__main__.pwskills'>\n"
     ]
    }
   ],
   "source": [
    "print(type(rohan))"
   ]
  },
  {
   "cell_type": "code",
   "execution_count": 17,
   "id": "c799a6ec-e340-45e8-8705-d2b815819e88",
   "metadata": {},
   "outputs": [
    {
     "name": "stdout",
     "output_type": "stream",
     "text": [
      "welcome to pwskills\n"
     ]
    }
   ],
   "source": [
    "rohan.welcome_msg()"
   ]
  },
  {
   "cell_type": "code",
   "execution_count": 18,
   "id": "7d7a947a-c4bd-48b4-8f5e-37fd938402d2",
   "metadata": {},
   "outputs": [],
   "source": [
    "gaurav =pwskills()\n"
   ]
  },
  {
   "cell_type": "code",
   "execution_count": 19,
   "id": "c2ce29b5-894e-4fae-8b12-551d5376a234",
   "metadata": {},
   "outputs": [
    {
     "name": "stdout",
     "output_type": "stream",
     "text": [
      "welcome to pwskills\n"
     ]
    }
   ],
   "source": [
    "gaurav.welcome_msg()"
   ]
  },
  {
   "cell_type": "code",
   "execution_count": 43,
   "id": "6b4602f1-e41a-446c-8656-2421c207199a",
   "metadata": {},
   "outputs": [],
   "source": [
    "class pwskills1():\n",
    "    def __init__(self,phone_number, email_id, student_id):\n",
    "        self.phone_number= phone_number\n",
    "        self.email_id= email_id\n",
    "        self.student_id= student_id\n",
    "    def return_students_details(self) :\n",
    "        return self.student_id, self.phone_number,self.email_id\n",
    "           "
   ]
  },
  {
   "cell_type": "code",
   "execution_count": 44,
   "id": "ab3f0d42-47cd-452f-8367-239a1d72990f",
   "metadata": {},
   "outputs": [],
   "source": [
    "rohan = pwskills1(11123232432,\"rohan@123.com\",102)"
   ]
  },
  {
   "cell_type": "code",
   "execution_count": 45,
   "id": "4b0e2147-6bf3-4903-9a32-247055f2ff20",
   "metadata": {},
   "outputs": [
    {
     "data": {
      "text/plain": [
       "(102, 11123232432, 'rohan@123.com')"
      ]
     },
     "execution_count": 45,
     "metadata": {},
     "output_type": "execute_result"
    }
   ],
   "source": [
    "rohan.return_students_details()"
   ]
  },
  {
   "cell_type": "code",
   "execution_count": 46,
   "id": "e57336d7-8d28-4379-8c89-15fec15415f3",
   "metadata": {},
   "outputs": [
    {
     "data": {
      "text/plain": [
       "'rohan@123.com'"
      ]
     },
     "execution_count": 46,
     "metadata": {},
     "output_type": "execute_result"
    }
   ],
   "source": [
    "rohan.email_id"
   ]
  },
  {
   "cell_type": "code",
   "execution_count": 47,
   "id": "63cef97f-543d-4822-8684-d758ceae8cac",
   "metadata": {},
   "outputs": [
    {
     "data": {
      "text/plain": [
       "11123232432"
      ]
     },
     "execution_count": 47,
     "metadata": {},
     "output_type": "execute_result"
    }
   ],
   "source": [
    "rohan.phone_number"
   ]
  },
  {
   "cell_type": "code",
   "execution_count": 48,
   "id": "d0810875-6803-406d-b48c-7d79009bf415",
   "metadata": {},
   "outputs": [
    {
     "data": {
      "text/plain": [
       "102"
      ]
     },
     "execution_count": 48,
     "metadata": {},
     "output_type": "execute_result"
    }
   ],
   "source": [
    "rohan.student_id"
   ]
  },
  {
   "cell_type": "code",
   "execution_count": 59,
   "id": "5426b887-c632-4ecb-a9db-406a20207414",
   "metadata": {},
   "outputs": [],
   "source": [
    "class pwskills2():\n",
    "    def __init__(self,phone_number, email_id, student_id):\n",
    "        self.phone_number1= phone_number\n",
    "        self.email_id1= email_id\n",
    "        self.student_id1= student_id\n",
    "    def return_students_details(self) :\n",
    "        return self.student_id1, self.phone_number1,self.email_id1\n",
    "           "
   ]
  },
  {
   "cell_type": "code",
   "execution_count": 60,
   "id": "199327b5-9018-4ec6-8b73-2b1a38ea5f7f",
   "metadata": {},
   "outputs": [],
   "source": [
    "sudh= pwskills2(23231323,\"sudh@gmail.com\",4454)"
   ]
  },
  {
   "cell_type": "code",
   "execution_count": 61,
   "id": "b4e1462c-9b31-42b6-89fe-5ef9caf27473",
   "metadata": {},
   "outputs": [
    {
     "data": {
      "text/plain": [
       "23231323"
      ]
     },
     "execution_count": 61,
     "metadata": {},
     "output_type": "execute_result"
    }
   ],
   "source": [
    "sudh.phone_number1"
   ]
  },
  {
   "cell_type": "code",
   "execution_count": 62,
   "id": "436a9836-47b9-4e6e-b74e-84ab0a4a8d2f",
   "metadata": {},
   "outputs": [
    {
     "data": {
      "text/plain": [
       "'sudh@gmail.com'"
      ]
     },
     "execution_count": 62,
     "metadata": {},
     "output_type": "execute_result"
    }
   ],
   "source": [
    "sudh.email_id1\n"
   ]
  },
  {
   "cell_type": "code",
   "execution_count": 63,
   "id": "2e5da8a1-23bc-4580-b0fa-554430d9b6b5",
   "metadata": {},
   "outputs": [
    {
     "data": {
      "text/plain": [
       "(4454, 23231323, 'sudh@gmail.com')"
      ]
     },
     "execution_count": 63,
     "metadata": {},
     "output_type": "execute_result"
    }
   ],
   "source": [
    "sudh.return_students_details()"
   ]
  },
  {
   "cell_type": "code",
   "execution_count": null,
   "id": "335d2f08-53cc-4e4c-8c65-ba060d35b821",
   "metadata": {},
   "outputs": [],
   "source": []
  }
 ],
 "metadata": {
  "kernelspec": {
   "display_name": "Python 3 (ipykernel)",
   "language": "python",
   "name": "python3"
  },
  "language_info": {
   "codemirror_mode": {
    "name": "ipython",
    "version": 3
   },
   "file_extension": ".py",
   "mimetype": "text/x-python",
   "name": "python",
   "nbconvert_exporter": "python",
   "pygments_lexer": "ipython3",
   "version": "3.10.8"
  }
 },
 "nbformat": 4,
 "nbformat_minor": 5
}
