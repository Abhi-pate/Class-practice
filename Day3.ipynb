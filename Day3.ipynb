{
 "cells": [
  {
   "cell_type": "code",
   "execution_count": 1,
   "id": "0e5a1761-05cf-48a3-84c6-578166ae23da",
   "metadata": {},
   "outputs": [],
   "source": [
    "d = {}"
   ]
  },
  {
   "cell_type": "code",
   "execution_count": 2,
   "id": "a1c290dd-8930-4c10-8257-6ee1975f9087",
   "metadata": {},
   "outputs": [
    {
     "data": {
      "text/plain": [
       "dict"
      ]
     },
     "execution_count": 2,
     "metadata": {},
     "output_type": "execute_result"
    }
   ],
   "source": [
    "type(d)"
   ]
  },
  {
   "cell_type": "code",
   "execution_count": 3,
   "id": "ca4ddf38-de15-48e3-b7e2-96780918ac15",
   "metadata": {},
   "outputs": [],
   "source": [
    "d1 ={'key' : \"sudh\"}"
   ]
  },
  {
   "cell_type": "code",
   "execution_count": 4,
   "id": "cb09e976-8316-4d75-a593-60c59383e238",
   "metadata": {},
   "outputs": [
    {
     "data": {
      "text/plain": [
       "{'key': 'sudh'}"
      ]
     },
     "execution_count": 4,
     "metadata": {},
     "output_type": "execute_result"
    }
   ],
   "source": [
    "d1"
   ]
  },
  {
   "cell_type": "code",
   "execution_count": 5,
   "id": "75bd8fb5-26df-4675-9d36-1638a759e36a",
   "metadata": {},
   "outputs": [],
   "source": [
    "d2 = {'name': \"abhishek patel\", 'email': \"sacchaaricap@gmail.com\", 'number': 638766}"
   ]
  },
  {
   "cell_type": "code",
   "execution_count": 6,
   "id": "ac49572d-2a50-41b0-b268-46ba97146bb8",
   "metadata": {},
   "outputs": [
    {
     "data": {
      "text/plain": [
       "{'name': 'abhishek patel', 'email': 'sacchaaricap@gmail.com', 'number': 638766}"
      ]
     },
     "execution_count": 6,
     "metadata": {},
     "output_type": "execute_result"
    }
   ],
   "source": [
    "d2"
   ]
  },
  {
   "cell_type": "code",
   "execution_count": 7,
   "id": "6fb350f6-20ae-439f-87db-e2cb2ac5d0e1",
   "metadata": {},
   "outputs": [],
   "source": [
    "d3={'234': \"sudh\", '@wer': \"abhi\"}"
   ]
  },
  {
   "cell_type": "code",
   "execution_count": 8,
   "id": "43fab11a-b1d8-49d1-b843-7b00c1c6f1da",
   "metadata": {},
   "outputs": [
    {
     "data": {
      "text/plain": [
       "{'234': 'sudh', '@wer': 'abhi'}"
      ]
     },
     "execution_count": 8,
     "metadata": {},
     "output_type": "execute_result"
    }
   ],
   "source": [
    "d3"
   ]
  },
  {
   "cell_type": "code",
   "execution_count": 9,
   "id": "084e3dfb-fb75-4fbf-ad9b-678c298716d9",
   "metadata": {},
   "outputs": [],
   "source": [
    "d3={'234': \"sudh\", '@wer': \"abhi\", True: 2345}"
   ]
  },
  {
   "cell_type": "code",
   "execution_count": 10,
   "id": "8a0275b1-a202-4b62-8804-7335ef2cd9be",
   "metadata": {},
   "outputs": [
    {
     "data": {
      "text/plain": [
       "{'234': 'sudh', '@wer': 'abhi', True: 2345}"
      ]
     },
     "execution_count": 10,
     "metadata": {},
     "output_type": "execute_result"
    }
   ],
   "source": [
    "d3"
   ]
  },
  {
   "cell_type": "code",
   "execution_count": 11,
   "id": "b6eb9baf-eb30-46ef-ae82-5db2cf69192e",
   "metadata": {},
   "outputs": [
    {
     "data": {
      "text/plain": [
       "'sudh'"
      ]
     },
     "execution_count": 11,
     "metadata": {},
     "output_type": "execute_result"
    }
   ],
   "source": [
    "d3['234']"
   ]
  },
  {
   "cell_type": "code",
   "execution_count": 12,
   "id": "61b932b2-f8a5-4239-92aa-9effa6744214",
   "metadata": {},
   "outputs": [
    {
     "data": {
      "text/plain": [
       "2345"
      ]
     },
     "execution_count": 12,
     "metadata": {},
     "output_type": "execute_result"
    }
   ],
   "source": [
    "d3[True]"
   ]
  },
  {
   "cell_type": "code",
   "execution_count": 13,
   "id": "bbc247f0-d764-44cc-bcc4-ce553fe5acda",
   "metadata": {},
   "outputs": [
    {
     "data": {
      "text/plain": [
       "2345"
      ]
     },
     "execution_count": 13,
     "metadata": {},
     "output_type": "execute_result"
    }
   ],
   "source": [
    "d3[1]"
   ]
  },
  {
   "cell_type": "code",
   "execution_count": 14,
   "id": "0688860d-87d7-45ba-8ab0-14c67a28c078",
   "metadata": {},
   "outputs": [],
   "source": [
    "d4={'name': \"sudh\",'mail id': \"sacharicap@gmail.com\",'name': \"shudhanshu\"}"
   ]
  },
  {
   "cell_type": "code",
   "execution_count": 15,
   "id": "3c40eba7-ea83-4624-805d-94d744b83a97",
   "metadata": {},
   "outputs": [
    {
     "data": {
      "text/plain": [
       "'shudhanshu'"
      ]
     },
     "execution_count": 15,
     "metadata": {},
     "output_type": "execute_result"
    }
   ],
   "source": [
    "d4['name']"
   ]
  },
  {
   "cell_type": "code",
   "execution_count": 16,
   "id": "8ecae112-ec2e-408b-baa6-dfcfbccba7d4",
   "metadata": {},
   "outputs": [],
   "source": [
    "d5={'company': \"pwskills\",'courses': [\"web dev\", \" datascince\", \"java\"  ]}"
   ]
  },
  {
   "cell_type": "code",
   "execution_count": 17,
   "id": "a351c4b4-452b-4c49-9fa0-ab0a1383b280",
   "metadata": {},
   "outputs": [
    {
     "data": {
      "text/plain": [
       "{'company': 'pwskills', 'courses': ['web dev', ' datascince', 'java']}"
      ]
     },
     "execution_count": 17,
     "metadata": {},
     "output_type": "execute_result"
    }
   ],
   "source": [
    "d5"
   ]
  },
  {
   "cell_type": "code",
   "execution_count": 18,
   "id": "3e980668-7c65-4a86-a8f2-7f61908fc651",
   "metadata": {},
   "outputs": [
    {
     "data": {
      "text/plain": [
       "['web dev', ' datascince', 'java']"
      ]
     },
     "execution_count": 18,
     "metadata": {},
     "output_type": "execute_result"
    }
   ],
   "source": [
    "d5['courses']"
   ]
  },
  {
   "cell_type": "code",
   "execution_count": 19,
   "id": "9042f551-f59d-487a-a917-cb612be83218",
   "metadata": {},
   "outputs": [
    {
     "data": {
      "text/plain": [
       "' datascince'"
      ]
     },
     "execution_count": 19,
     "metadata": {},
     "output_type": "execute_result"
    }
   ],
   "source": [
    "d5['courses'][1]"
   ]
  },
  {
   "cell_type": "code",
   "execution_count": 20,
   "id": "6871f405-f450-4502-8bdc-8f413b210e9d",
   "metadata": {},
   "outputs": [
    {
     "data": {
      "text/plain": [
       "'java'"
      ]
     },
     "execution_count": 20,
     "metadata": {},
     "output_type": "execute_result"
    }
   ],
   "source": [
    "d5['courses'][2]"
   ]
  },
  {
   "cell_type": "code",
   "execution_count": 21,
   "id": "4f3fe780-0c3b-46e8-a954-35d70e9c8e38",
   "metadata": {},
   "outputs": [],
   "source": [
    "d6={\" number\": [1,2,3,4,5], \"assigmnemt\": (2,3,4,5,6,7,8), \"launch_date\": {28,23,25,35,} , \"classs_time\": {\"webdev\":8, 'datascience': 10}}"
   ]
  },
  {
   "cell_type": "code",
   "execution_count": 22,
   "id": "9baeb6c8-e8cb-419e-82e5-364419192f18",
   "metadata": {},
   "outputs": [
    {
     "data": {
      "text/plain": [
       "{' number': [1, 2, 3, 4, 5],\n",
       " 'assigmnemt': (2, 3, 4, 5, 6, 7, 8),\n",
       " 'launch_date': {23, 25, 28, 35},\n",
       " 'classs_time': {'webdev': 8, 'datascience': 10}}"
      ]
     },
     "execution_count": 22,
     "metadata": {},
     "output_type": "execute_result"
    }
   ],
   "source": [
    "d6"
   ]
  },
  {
   "cell_type": "code",
   "execution_count": 23,
   "id": "28143721-8381-4498-bff5-8d41e8255ec7",
   "metadata": {},
   "outputs": [
    {
     "data": {
      "text/plain": [
       "8"
      ]
     },
     "execution_count": 23,
     "metadata": {},
     "output_type": "execute_result"
    }
   ],
   "source": [
    "d6['classs_time']['webdev']"
   ]
  },
  {
   "cell_type": "code",
   "execution_count": 24,
   "id": "f3757263-f0fd-4749-8f01-e4b67f604b54",
   "metadata": {},
   "outputs": [],
   "source": [
    "d6['mentor']= [\"sudhanshu\", \"krish\",\"anurag\",\"hayder\"]"
   ]
  },
  {
   "cell_type": "code",
   "execution_count": 25,
   "id": "a454d5ba-173c-4032-9a26-539349214405",
   "metadata": {},
   "outputs": [
    {
     "data": {
      "text/plain": [
       "{' number': [1, 2, 3, 4, 5],\n",
       " 'assigmnemt': (2, 3, 4, 5, 6, 7, 8),\n",
       " 'launch_date': {23, 25, 28, 35},\n",
       " 'classs_time': {'webdev': 8, 'datascience': 10},\n",
       " 'mentor': ['sudhanshu', 'krish', 'anurag', 'hayder']}"
      ]
     },
     "execution_count": 25,
     "metadata": {},
     "output_type": "execute_result"
    }
   ],
   "source": [
    "d6"
   ]
  },
  {
   "cell_type": "code",
   "execution_count": 26,
   "id": "0cd8d3bc-07d0-49ae-b020-82544c85e87c",
   "metadata": {},
   "outputs": [],
   "source": [
    "del d6[' number']"
   ]
  },
  {
   "cell_type": "code",
   "execution_count": 27,
   "id": "68123d9d-8eb5-46a4-90ce-08daa2c086a3",
   "metadata": {},
   "outputs": [
    {
     "data": {
      "text/plain": [
       "dict_keys(['assigmnemt', 'launch_date', 'classs_time', 'mentor'])"
      ]
     },
     "execution_count": 27,
     "metadata": {},
     "output_type": "execute_result"
    }
   ],
   "source": [
    "d6.keys()"
   ]
  },
  {
   "cell_type": "code",
   "execution_count": 28,
   "id": "13e6f68e-8f13-4079-a7aa-9a53c9751028",
   "metadata": {},
   "outputs": [
    {
     "data": {
      "text/plain": [
       "['assigmnemt', 'launch_date', 'classs_time', 'mentor']"
      ]
     },
     "execution_count": 28,
     "metadata": {},
     "output_type": "execute_result"
    }
   ],
   "source": [
    "list(d6.keys())"
   ]
  },
  {
   "cell_type": "code",
   "execution_count": 29,
   "id": "f0ec2711-ed4b-4072-8dd7-099c5e6555fa",
   "metadata": {},
   "outputs": [
    {
     "data": {
      "text/plain": [
       "[(2, 3, 4, 5, 6, 7, 8),\n",
       " {23, 25, 28, 35},\n",
       " {'webdev': 8, 'datascience': 10},\n",
       " ['sudhanshu', 'krish', 'anurag', 'hayder']]"
      ]
     },
     "execution_count": 29,
     "metadata": {},
     "output_type": "execute_result"
    }
   ],
   "source": [
    "list(d6.values())"
   ]
  },
  {
   "cell_type": "code",
   "execution_count": 30,
   "id": "12312fa6-e379-4560-93da-8f7c5c5c4a27",
   "metadata": {},
   "outputs": [
    {
     "data": {
      "text/plain": [
       "dict_items([('assigmnemt', (2, 3, 4, 5, 6, 7, 8)), ('launch_date', {25, 35, 28, 23}), ('classs_time', {'webdev': 8, 'datascience': 10}), ('mentor', ['sudhanshu', 'krish', 'anurag', 'hayder'])])"
      ]
     },
     "execution_count": 30,
     "metadata": {},
     "output_type": "execute_result"
    }
   ],
   "source": [
    "d6.items()"
   ]
  },
  {
   "cell_type": "code",
   "execution_count": 31,
   "id": "18f4d9f0-af51-49d0-b1dc-9dbb2a8a23e3",
   "metadata": {},
   "outputs": [
    {
     "data": {
      "text/plain": [
       "[('assigmnemt', (2, 3, 4, 5, 6, 7, 8)),\n",
       " ('launch_date', {23, 25, 28, 35}),\n",
       " ('classs_time', {'webdev': 8, 'datascience': 10}),\n",
       " ('mentor', ['sudhanshu', 'krish', 'anurag', 'hayder'])]"
      ]
     },
     "execution_count": 31,
     "metadata": {},
     "output_type": "execute_result"
    }
   ],
   "source": [
    "list(d6.items())"
   ]
  },
  {
   "cell_type": "code",
   "execution_count": 32,
   "id": "3ba68908-b928-4b48-9b12-dff8de7c9041",
   "metadata": {},
   "outputs": [
    {
     "data": {
      "text/plain": [
       "(2, 3, 4, 5, 6, 7, 8)"
      ]
     },
     "execution_count": 32,
     "metadata": {},
     "output_type": "execute_result"
    }
   ],
   "source": [
    "d6.pop('assigmnemt')"
   ]
  },
  {
   "cell_type": "code",
   "execution_count": 33,
   "id": "ca9dbc2d-b18c-4a6f-ac67-5b9f99a8410e",
   "metadata": {},
   "outputs": [
    {
     "data": {
      "text/plain": [
       "{'launch_date': {23, 25, 28, 35},\n",
       " 'classs_time': {'webdev': 8, 'datascience': 10},\n",
       " 'mentor': ['sudhanshu', 'krish', 'anurag', 'hayder']}"
      ]
     },
     "execution_count": 33,
     "metadata": {},
     "output_type": "execute_result"
    }
   ],
   "source": [
    "d6"
   ]
  },
  {
   "cell_type": "code",
   "execution_count": 34,
   "id": "49afaf1b-caab-4727-9371-ab6c144f67a5",
   "metadata": {},
   "outputs": [
    {
     "ename": "TypeError",
     "evalue": "pop expected at least 1 argument, got 0",
     "output_type": "error",
     "traceback": [
      "\u001b[0;31m---------------------------------------------------------------------------\u001b[0m",
      "\u001b[0;31mTypeError\u001b[0m                                 Traceback (most recent call last)",
      "Cell \u001b[0;32mIn[34], line 1\u001b[0m\n\u001b[0;32m----> 1\u001b[0m \u001b[43md6\u001b[49m\u001b[38;5;241;43m.\u001b[39;49m\u001b[43mpop\u001b[49m\u001b[43m(\u001b[49m\u001b[43m)\u001b[49m\n",
      "\u001b[0;31mTypeError\u001b[0m: pop expected at least 1 argument, got 0"
     ]
    }
   ],
   "source": [
    "d6.pop()"
   ]
  },
  {
   "cell_type": "code",
   "execution_count": null,
   "id": "e3903ea0-d181-4629-9660-9f947ebf0665",
   "metadata": {},
   "outputs": [],
   "source": []
  },
  {
   "cell_type": "code",
   "execution_count": 35,
   "id": "13c55ec7-bcdf-49f2-ac06-e9850eb30915",
   "metadata": {},
   "outputs": [
    {
     "name": "stdin",
     "output_type": "stream",
     "text": [
      "enter your ,=marks  555\n"
     ]
    },
    {
     "name": "stdout",
     "output_type": "stream",
     "text": [
      "you will ne apart of A0 batch\n"
     ]
    }
   ],
   "source": [
    "marks= int(input(\"enter your ,=marks \"))\n",
    "if marks >= 80:\n",
    "    print(\"you will ne apart of A0 batch\")\n",
    "elif marks>= 60 and marks <80:\n",
    "    print(\"you will be a part od a1 batch\")\n",
    "elif marks >= 40 and marks< 60:\n",
    "    print (\"you will be a part of a2 batch\")\n",
    "else:\n",
    "    print(\"you will a part of a3 batch\")"
   ]
  },
  {
   "cell_type": "code",
   "execution_count": 42,
   "id": "40815059-d139-4836-bebf-653a4463c5aa",
   "metadata": {},
   "outputs": [
    {
     "name": "stdin",
     "output_type": "stream",
     "text": [
      "enter price 399\n"
     ]
    },
    {
     "name": "stdout",
     "output_type": "stream",
     "text": [
      "i will purchae\n"
     ]
    }
   ],
   "source": [
    "price= int(input(\"enter price\"))\n",
    "if price >1000:\n",
    "    print(\"i will not purchase\")\n",
    "    if price > 5000:\n",
    "        print(\"this is too much\")\n",
    "    elif price< 2000:\n",
    "            print(\"ok\")\n",
    "else:\n",
    "    print(\"i will purchae\")"
   ]
  },
  {
   "cell_type": "code",
   "execution_count": 43,
   "id": "526d7452-5ab2-4136-8bc8-0e0a327ccdf6",
   "metadata": {},
   "outputs": [],
   "source": [
    "l =[1,2,3,4,4,5,6,7,8]"
   ]
  },
  {
   "cell_type": "code",
   "execution_count": 53,
   "id": "813960e5-ed5a-4370-8c6a-e79a34287ca5",
   "metadata": {},
   "outputs": [
    {
     "name": "stdout",
     "output_type": "stream",
     "text": [
      "1\n",
      "2\n",
      "3\n",
      "4\n",
      "4\n",
      "5\n",
      "6\n",
      "7\n",
      "8\n"
     ]
    }
   ],
   "source": [
    "l1 =[]\n",
    "for i in l:\n",
    "    print(i)\n",
    "    l1.append(i+1)\n",
    "   "
   ]
  },
  {
   "cell_type": "code",
   "execution_count": 52,
   "id": "408052cf-8abc-4704-bd72-806a26b3f23e",
   "metadata": {},
   "outputs": [
    {
     "data": {
      "text/plain": [
       "[2, 3, 4, 5, 5, 6, 7, 8, 9]"
      ]
     },
     "execution_count": 52,
     "metadata": {},
     "output_type": "execute_result"
    }
   ],
   "source": [
    "l1"
   ]
  },
  {
   "cell_type": "code",
   "execution_count": 57,
   "id": "5033c9b6-ad92-42f5-8392-0bec35b1038a",
   "metadata": {},
   "outputs": [],
   "source": [
    " l= [1,2,3,4,5,6,\"sudh\", 342,34.4,\"abcd\"]"
   ]
  },
  {
   "cell_type": "code",
   "execution_count": 58,
   "id": "c7b278a8-5023-43ec-8e90-d6652c73febc",
   "metadata": {},
   "outputs": [
    {
     "name": "stdout",
     "output_type": "stream",
     "text": [
      "[1, 2, 3, 4, 5, 6, 342, 34.4] ['sudh', 'abcd']\n"
     ]
    }
   ],
   "source": [
    "l1_num =[]\n",
    "l2_str =[]\n",
    "for i in l:\n",
    "    if type(i) == int or type(i) == float:\n",
    "        l1_num.append(i)\n",
    "    else:\n",
    "        l2_str.append(i)\n",
    "print(l1_num, l2_str)        "
   ]
  },
  {
   "cell_type": "code",
   "execution_count": null,
   "id": "331ae259-e8f7-42b9-971d-d5bf43632ce9",
   "metadata": {},
   "outputs": [],
   "source": []
  }
 ],
 "metadata": {
  "kernelspec": {
   "display_name": "Python 3 (ipykernel)",
   "language": "python",
   "name": "python3"
  },
  "language_info": {
   "codemirror_mode": {
    "name": "ipython",
    "version": 3
   },
   "file_extension": ".py",
   "mimetype": "text/x-python",
   "name": "python",
   "nbconvert_exporter": "python",
   "pygments_lexer": "ipython3",
   "version": "3.10.8"
  }
 },
 "nbformat": 4,
 "nbformat_minor": 5
}
