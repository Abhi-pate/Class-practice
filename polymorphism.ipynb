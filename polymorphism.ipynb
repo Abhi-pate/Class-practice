{
 "cells": [
  {
   "cell_type": "code",
   "execution_count": 7,
   "id": "5bf403a7-16b3-461a-87b7-7a1d37ecedfa",
   "metadata": {},
   "outputs": [],
   "source": [
    "def test(a,b):\n",
    "    return a+b"
   ]
  },
  {
   "cell_type": "code",
   "execution_count": 8,
   "id": "7c033e5e-cb6a-49f9-96c6-2eab4b3f99bc",
   "metadata": {},
   "outputs": [
    {
     "data": {
      "text/plain": [
       "7"
      ]
     },
     "execution_count": 8,
     "metadata": {},
     "output_type": "execute_result"
    }
   ],
   "source": [
    "test(3,4)"
   ]
  },
  {
   "cell_type": "code",
   "execution_count": 9,
   "id": "56d1b9e8-5fbf-48d7-95a9-e49d99b18953",
   "metadata": {},
   "outputs": [
    {
     "data": {
      "text/plain": [
       "'sudhaptel'"
      ]
     },
     "execution_count": 9,
     "metadata": {},
     "output_type": "execute_result"
    }
   ],
   "source": [
    "test(\"sudh\",\"aptel\")"
   ]
  },
  {
   "cell_type": "code",
   "execution_count": 10,
   "id": "1b69393d-7a96-48dd-a378-46d495e13960",
   "metadata": {},
   "outputs": [
    {
     "data": {
      "text/plain": [
       "[1, 2, 3, 4, 4, 45, 3, 3]"
      ]
     },
     "execution_count": 10,
     "metadata": {},
     "output_type": "execute_result"
    }
   ],
   "source": [
    "test([1,2,3,4],[4,45,3,3,])"
   ]
  },
  {
   "cell_type": "code",
   "execution_count": 19,
   "id": "aba902e2-2a96-4307-969f-31d6c8035638",
   "metadata": {},
   "outputs": [],
   "source": [
    "class data_science:\n",
    "    def syllabus(self):\n",
    "        print (\"this  is my data science syllabus \")"
   ]
  },
  {
   "cell_type": "code",
   "execution_count": 20,
   "id": "00c3d772-12a9-4779-b928-92b0090137d5",
   "metadata": {},
   "outputs": [],
   "source": [
    "class web_dev:\n",
    "    def syllabus(self):\n",
    "        print(\"this is my syllabus for web_dev\")"
   ]
  },
  {
   "cell_type": "code",
   "execution_count": 21,
   "id": "25edad69-bc19-46e6-add6-7f7fea6f94ea",
   "metadata": {},
   "outputs": [],
   "source": [
    "def class_pacer(class_object):\n",
    "    for i in class_object :\n",
    "        i.syllabus()"
   ]
  },
  {
   "cell_type": "code",
   "execution_count": 22,
   "id": "d9c83749-043b-4684-a39c-bc9335a65a7c",
   "metadata": {},
   "outputs": [],
   "source": [
    "data_science = data_science()"
   ]
  },
  {
   "cell_type": "code",
   "execution_count": 23,
   "id": "1765a689-cdba-4e55-81ef-4d0122440a2e",
   "metadata": {},
   "outputs": [],
   "source": [
    "web_dev =web_dev()"
   ]
  },
  {
   "cell_type": "code",
   "execution_count": 24,
   "id": "cec89f58-f904-4d02-b5f9-8370bce0b21a",
   "metadata": {},
   "outputs": [],
   "source": [
    "class_object = [data_science, web_dev]"
   ]
  },
  {
   "cell_type": "code",
   "execution_count": 25,
   "id": "493a2f03-5c15-4cfc-b9bc-8007faff3e83",
   "metadata": {},
   "outputs": [
    {
     "name": "stdout",
     "output_type": "stream",
     "text": [
      "this  is my data science syllabus \n",
      "this is my syllabus for web_dev\n"
     ]
    }
   ],
   "source": [
    "class_pacer(class_object)"
   ]
  },
  {
   "cell_type": "code",
   "execution_count": null,
   "id": "b60d9c84-3299-4c13-ba29-6880f9d62eba",
   "metadata": {},
   "outputs": [],
   "source": []
  }
 ],
 "metadata": {
  "kernelspec": {
   "display_name": "Python 3 (ipykernel)",
   "language": "python",
   "name": "python3"
  },
  "language_info": {
   "codemirror_mode": {
    "name": "ipython",
    "version": 3
   },
   "file_extension": ".py",
   "mimetype": "text/x-python",
   "name": "python",
   "nbconvert_exporter": "python",
   "pygments_lexer": "ipython3",
   "version": "3.10.8"
  }
 },
 "nbformat": 4,
 "nbformat_minor": 5
}
